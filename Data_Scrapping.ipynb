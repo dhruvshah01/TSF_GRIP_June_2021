{
  "nbformat": 4,
  "nbformat_minor": 0,
  "metadata": {
    "colab": {
      "name": "Data-Scrapping.ipynb",
      "provenance": [],
      "collapsed_sections": []
    },
    "kernelspec": {
      "name": "python3",
      "display_name": "Python 3"
    },
    "language_info": {
      "name": "python"
    }
  },
  "cells": [
    {
      "cell_type": "code",
      "metadata": {
        "id": "a7hc_WJy6O4m"
      },
      "source": [
        "import time\n",
        "import datetime\n",
        "import pandas as pd\n",
        "import numpy as np"
      ],
      "execution_count": null,
      "outputs": []
    },
    {
      "cell_type": "code",
      "metadata": {
        "id": "bgvvEPK96Ro1"
      },
      "source": [
        "ticker = '^BSESN'\n",
        "period1 = int(time.mktime(datetime.datetime(2001, 1, 2, 23, 59).timetuple()))\n",
        "period2 = int(time.mktime(datetime.datetime(2021, 6, 17, 23, 59).timetuple()))\n",
        "interval = '1d' # 1d, 1m\n",
        "\n",
        "query_string = f'https://query1.finance.yahoo.com/v7/finance/download/{ticker}?period1={period1}&period2={period2}&interval={interval}&events=history&includeAdjustedClose=true'\n",
        "\n",
        "df = pd.read_csv(query_string)\n",
        "# print(df)\n",
        "df.to_csv('BSESN.csv')"
      ],
      "execution_count": null,
      "outputs": []
    }
  ]
}